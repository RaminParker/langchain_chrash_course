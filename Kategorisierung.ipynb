{
  "nbformat": 4,
  "nbformat_minor": 0,
  "metadata": {
    "colab": {
      "private_outputs": true,
      "provenance": [],
      "authorship_tag": "ABX9TyMtg+G9emX4itB1Jfwk19Gu",
      "include_colab_link": true
    },
    "kernelspec": {
      "name": "python3",
      "display_name": "Python 3"
    },
    "language_info": {
      "name": "python"
    }
  },
  "cells": [
    {
      "cell_type": "markdown",
      "metadata": {
        "id": "view-in-github",
        "colab_type": "text"
      },
      "source": [
        "<a href=\"https://colab.research.google.com/github/RaminParker/langchain_chrash_course/blob/main/Kategorisierung.ipynb\" target=\"_parent\"><img src=\"https://colab.research.google.com/assets/colab-badge.svg\" alt=\"Open In Colab\"/></a>"
      ]
    },
    {
      "cell_type": "code",
      "source": [
        "!pip -q install langchain openai"
      ],
      "metadata": {
        "id": "Wr1If1xSoYr-"
      },
      "execution_count": null,
      "outputs": []
    },
    {
      "cell_type": "code",
      "execution_count": null,
      "metadata": {
        "id": "dlHayYWQoLgL"
      },
      "outputs": [],
      "source": [
        "from langchain.output_parsers import StructuredOutputParser, ResponseSchema\n",
        "from langchain.prompts import ChatPromptTemplate, HumanMessagePromptTemplate\n",
        "from langchain.llms import OpenAI\n",
        "from langchain.chat_models import ChatOpenAI\n",
        "import pandas as pd\n",
        "import json"
      ]
    },
    {
      "cell_type": "code",
      "source": [
        "# Mount your Google Drive on your Google Colab runtime\n",
        "from google.colab import drive\n",
        "drive.mount('/content/drive/')\n",
        "\n",
        "path_to_key = \"/content/drive/MyDrive/Colab Notebooks/configs/openai/token.txt\" \n",
        "file1 = open(path_to_key, \"r\")\n",
        "token_oai = file1.read()"
      ],
      "metadata": {
        "id": "ly9YRgCSoVc-"
      },
      "execution_count": null,
      "outputs": []
    },
    {
      "cell_type": "code",
      "source": [
        "import os\n",
        "\n",
        "os.environ[\"OPENAI_API_KEY\"] = token_oai"
      ],
      "metadata": {
        "id": "8QiCIm3fouoZ"
      },
      "execution_count": null,
      "outputs": []
    },
    {
      "cell_type": "code",
      "source": [
        "openai_api_key = token_oai"
      ],
      "metadata": {
        "id": "Ign3reMboyqQ"
      },
      "execution_count": null,
      "outputs": []
    },
    {
      "cell_type": "code",
      "source": [
        "# Temp = 0 so that we get clean information without a lot of creativity\n",
        "chat_model = ChatOpenAI(temperature=0, openai_api_key=openai_api_key, max_tokens=1000)"
      ],
      "metadata": {
        "id": "F9RLpH3Eo8rl"
      },
      "execution_count": null,
      "outputs": []
    },
    {
      "cell_type": "code",
      "source": [
        "# How you would like your reponse structured. This is basically a fancy prompt template\n",
        "response_schemas = [\n",
        "    ResponseSchema(name=\"input_industry\", description=\"This is the input_industry from the user\"),\n",
        "    ResponseSchema(name=\"standarized_industry\", description=\"This is the industry you feel is most closely matched to the users input\"),\n",
        "    ResponseSchema(name=\"match_score\",  description=\"A score 0-100 of how close you think the match is between user input and your match\")\n",
        "]\n",
        "\n",
        "# How you would like to parse your output\n",
        "output_parser = StructuredOutputParser.from_response_schemas(response_schemas)"
      ],
      "metadata": {
        "id": "D0v93st4o-9k"
      },
      "execution_count": null,
      "outputs": []
    },
    {
      "cell_type": "code",
      "source": [
        "# See the prompt template you created for formatting\n",
        "format_instructions = output_parser.get_format_instructions()\n",
        "print (output_parser.get_format_instructions())"
      ],
      "metadata": {
        "id": "FDbJpZ_7rrjY"
      },
      "execution_count": null,
      "outputs": []
    },
    {
      "cell_type": "code",
      "source": [
        "template = \"\"\"\n",
        "You will be given a series of industry names from a user.\n",
        "Find the best corresponding match on the list of standardized names.\n",
        "The closest match will be the one with the closest semantic meaning. Not just string similarity.\n",
        "\n",
        "{format_instructions}\n",
        "\n",
        "Wrap your final output with closed and open brackets (a list of json objects)\n",
        "\n",
        "input_industry INPUT:\n",
        "{user_industries}\n",
        "\n",
        "STANDARDIZED INDUSTRIES:\n",
        "{standardized_industries}\n",
        "\n",
        "YOUR RESPONSE:\n",
        "\"\"\"\n",
        "\n",
        "prompt = ChatPromptTemplate(\n",
        "    messages=[\n",
        "        HumanMessagePromptTemplate.from_template(template)  \n",
        "    ],\n",
        "    input_variables=[\"user_industries\", \"standardized_industries\"],\n",
        "    partial_variables={\"format_instructions\": format_instructions}\n",
        ")"
      ],
      "metadata": {
        "id": "7SidLxQVrtvo"
      },
      "execution_count": null,
      "outputs": []
    },
    {
      "cell_type": "code",
      "source": [
        "standardized_industries = [\"Transportation & Logistic\", \"Agriculture\", \"Consumer Goods\", \"Hardware & Networking\", \"Media & Communication\", \"Corporate Services\",\n",
        "                           \"Travel\", \"Legal\", \"Wellness & Fitness\", \"Entertainment\", \"Public Administration\", \"Education\", \"Retail\", \"Finance\", \"Health Care\"]"
      ],
      "metadata": {
        "id": "XWMVt1vYseU4"
      },
      "execution_count": null,
      "outputs": []
    },
    {
      "cell_type": "code",
      "source": [
        "# Your user input\n",
        "\n",
        "user_input = \"air LineZ, airline, aviation, planes that fly, farming, bread, wifi networks, twitter media agency\"\n",
        "\n",
        "_input = prompt.format_prompt(user_industries=user_input, standardized_industries=standardized_industries)\n",
        "\n",
        "\n",
        "print (f\"There are {len(_input.messages)} message(s)\")\n",
        "print (f\"Type: {type(_input.messages[0])}\")\n",
        "print (\"---------------------------\")\n",
        "print (_input.messages[0].content)"
      ],
      "metadata": {
        "id": "QHryXhoQtdBH"
      },
      "execution_count": null,
      "outputs": []
    },
    {
      "cell_type": "code",
      "source": [
        "output = chat_model(_input.to_messages())"
      ],
      "metadata": {
        "id": "a-C9kAtDukFn"
      },
      "execution_count": null,
      "outputs": []
    },
    {
      "cell_type": "code",
      "source": [
        "print(type(output))\n",
        "print(output.content)"
      ],
      "metadata": {
        "id": "s1GIeOHG06qJ"
      },
      "execution_count": null,
      "outputs": []
    },
    {
      "cell_type": "code",
      "source": [
        "if \"```json\" in output.content:\n",
        "    print(\"hello\")\n",
        "    json_string = output.content.split(\"```json\")[1].strip()\n",
        "else:\n",
        "    json_string = output.content"
      ],
      "metadata": {
        "id": "RHsSSCrM13OD"
      },
      "execution_count": null,
      "outputs": []
    },
    {
      "cell_type": "code",
      "source": [
        "json_string"
      ],
      "metadata": {
        "id": "wMQWmWK09G0W"
      },
      "execution_count": null,
      "outputs": []
    },
    {
      "cell_type": "code",
      "source": [
        "output.content"
      ],
      "metadata": {
        "id": "YA1nIEloHUqT"
      },
      "execution_count": null,
      "outputs": []
    },
    {
      "cell_type": "code",
      "source": [
        "# output_parser.parse(output.content) Ideally this works but not in all cases\n",
        "structured_data = json.loads(json_string)\n",
        "structured_data"
      ],
      "metadata": {
        "id": "4ae1Fo1G1YnJ"
      },
      "execution_count": null,
      "outputs": []
    },
    {
      "cell_type": "code",
      "source": [],
      "metadata": {
        "id": "1PwJNIbD1y7L"
      },
      "execution_count": null,
      "outputs": []
    }
  ]
}