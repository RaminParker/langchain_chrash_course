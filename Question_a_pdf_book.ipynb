{
  "nbformat": 4,
  "nbformat_minor": 0,
  "metadata": {
    "colab": {
      "private_outputs": true,
      "provenance": [],
      "authorship_tag": "ABX9TyMrCb233yG2SnkfCt86dDnX",
      "include_colab_link": true
    },
    "kernelspec": {
      "name": "python3",
      "display_name": "Python 3"
    },
    "language_info": {
      "name": "python"
    }
  },
  "cells": [
    {
      "cell_type": "markdown",
      "metadata": {
        "id": "view-in-github",
        "colab_type": "text"
      },
      "source": [
        "<a href=\"https://colab.research.google.com/github/RaminParker/langchain_chrash_course/blob/main/Question_a_pdf_book.ipynb\" target=\"_parent\"><img src=\"https://colab.research.google.com/assets/colab-badge.svg\" alt=\"Open In Colab\"/></a>"
      ]
    },
    {
      "cell_type": "code",
      "execution_count": null,
      "metadata": {
        "id": "fCoPhyRRz9iI"
      },
      "outputs": [],
      "source": [
        "!pip -q install langchain openai"
      ]
    },
    {
      "cell_type": "code",
      "source": [
        "from langchain.document_loaders import UnstructuredPDFLoader, OnlinePDFLoader\n",
        "from langchain.text_splitter import RecursiveCharacterTextSplitter"
      ],
      "metadata": {
        "id": "mg2cXU010Myz"
      },
      "execution_count": null,
      "outputs": []
    },
    {
      "cell_type": "markdown",
      "source": [
        "# Load your data"
      ],
      "metadata": {
        "id": "9n88CDE20Y8E"
      }
    },
    {
      "cell_type": "code",
      "source": [
        "# Mount your Google Drive on your Google Colab runtime\n",
        "from google.colab import drive\n",
        "drive.mount('/content/drive/')\n",
        "\n",
        "path_to_key = \"/content/drive/MyDrive/Colab Notebooks/configs/openai/token.txt\" \n",
        "file1 = open(path_to_key, \"r\")\n",
        "token_oai = file1.read()"
      ],
      "metadata": {
        "id": "2Gb-Fx7G0OLi"
      },
      "execution_count": null,
      "outputs": []
    },
    {
      "cell_type": "code",
      "source": [
        "import os\n",
        "\n",
        "os.environ[\"OPENAI_API_KEY\"] = token_oai"
      ],
      "metadata": {
        "id": "9dnrFcXn0f5T"
      },
      "execution_count": null,
      "outputs": []
    },
    {
      "cell_type": "markdown",
      "source": [
        "# Load your data"
      ],
      "metadata": {
        "id": "1luvjLiV4K_p"
      }
    },
    {
      "cell_type": "code",
      "source": [
        "# !pip install unstructured\n",
        "# !pip install unstructured[local-inference]"
      ],
      "metadata": {
        "id": "RfhLQog-5g3e"
      },
      "execution_count": null,
      "outputs": []
    },
    {
      "cell_type": "code",
      "source": [
        "# !pip install pdfminer"
      ],
      "metadata": {
        "id": "8WeXQwh95sk1"
      },
      "execution_count": null,
      "outputs": []
    },
    {
      "cell_type": "code",
      "source": [
        "loader = UnstructuredPDFLoader(\"/content/drive/MyDrive/Colab Notebooks/datasets/pdf/TeamBank_GB_2021.pdf\")\n",
        "# loader = OnlinePDFLoader(\"https://www.teambank.de/geschaeftsbericht2021/img/TeamBank_GB_2021.pdf\")"
      ],
      "metadata": {
        "id": "i-IsJX1Z31lG"
      },
      "execution_count": null,
      "outputs": []
    },
    {
      "cell_type": "code",
      "source": [
        "data = loader.load()"
      ],
      "metadata": {
        "id": "jZYE3VZW4pLZ"
      },
      "execution_count": null,
      "outputs": []
    },
    {
      "cell_type": "code",
      "source": [
        "print (f'You have {len(data)} document(s) in your data')\n",
        "print (f'There are {len(data[0].page_content)} characters in your document')"
      ],
      "metadata": {
        "id": "uKLdTaiy4uOn"
      },
      "execution_count": null,
      "outputs": []
    },
    {
      "cell_type": "markdown",
      "source": [
        "\n",
        "# Chunk your data up into smaller documents"
      ],
      "metadata": {
        "id": "tcOv799G9lgL"
      }
    },
    {
      "cell_type": "code",
      "source": [
        "text_splitter = RecursiveCharacterTextSplitter(chunk_size=1000, chunk_overlap=0)\n",
        "texts = text_splitter.split_documents(data)"
      ],
      "metadata": {
        "id": "4YriAo0c78dS"
      },
      "execution_count": null,
      "outputs": []
    },
    {
      "cell_type": "code",
      "source": [
        "print (f'Now you have {len(texts)} documents')"
      ],
      "metadata": {
        "id": "--n_Iejk9sha"
      },
      "execution_count": null,
      "outputs": []
    },
    {
      "cell_type": "code",
      "source": [
        "texts[3]"
      ],
      "metadata": {
        "id": "wiL0Hz_S9uqZ"
      },
      "execution_count": null,
      "outputs": []
    },
    {
      "cell_type": "markdown",
      "source": [
        "# Create embeddings of your documents to get ready for semantic search"
      ],
      "metadata": {
        "id": "7Sd64iHR9-em"
      }
    },
    {
      "cell_type": "code",
      "source": [
        "!pip install pinecone-client"
      ],
      "metadata": {
        "id": "AtF2xVaF-DAC"
      },
      "execution_count": null,
      "outputs": []
    },
    {
      "cell_type": "code",
      "source": [
        "from langchain.vectorstores import Chroma, Pinecone\n",
        "from langchain.embeddings.openai import OpenAIEmbeddings\n",
        "import pinecone"
      ],
      "metadata": {
        "id": "-TF1_I7q9wuh"
      },
      "execution_count": null,
      "outputs": []
    },
    {
      "cell_type": "markdown",
      "source": [
        "The [Pinecone](https://www.pinecone.io/) vector database makes it easy to build high-performance vector search applications. Developer-friendly, fully managed, and easily scalable without infrastructure hassles."
      ],
      "metadata": {
        "id": "-t28DCK2Cekx"
      }
    },
    {
      "cell_type": "code",
      "source": [
        "OPENAI_API_KEY = token_oai\n",
        "PINECONE_API_KEY = '...'\n",
        "PINECONE_API_ENV = 'us-east1-gcp'"
      ],
      "metadata": {
        "id": "RrgdLFu6-tEW"
      },
      "execution_count": null,
      "outputs": []
    },
    {
      "cell_type": "code",
      "source": [
        "embeddings = OpenAIEmbeddings(openai_api_key=OPENAI_API_KEY)"
      ],
      "metadata": {
        "id": "jfqmrMy7-AQi"
      },
      "execution_count": null,
      "outputs": []
    },
    {
      "cell_type": "code",
      "source": [],
      "metadata": {
        "id": "IYnvJWg--mGV"
      },
      "execution_count": null,
      "outputs": []
    }
  ]
}