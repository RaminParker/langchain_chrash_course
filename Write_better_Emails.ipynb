{
  "nbformat": 4,
  "nbformat_minor": 0,
  "metadata": {
    "colab": {
      "provenance": [],
      "include_colab_link": true
    },
    "kernelspec": {
      "name": "python3",
      "display_name": "Python 3"
    }
  },
  "cells": [
    {
      "cell_type": "markdown",
      "metadata": {
        "id": "view-in-github",
        "colab_type": "text"
      },
      "source": [
        "<a href=\"https://colab.research.google.com/github/RaminParker/langchain_chrash_course/blob/main/Write_better_Emails.ipynb\" target=\"_parent\"><img src=\"https://colab.research.google.com/assets/colab-badge.svg\" alt=\"Open In Colab\"/></a>"
      ]
    },
    {
      "cell_type": "markdown",
      "metadata": {
        "id": "vWmc_s2ezvU0"
      },
      "source": [
        "# Write better Emails\n"
      ]
    },
    {
      "cell_type": "code",
      "metadata": {
        "id": "RvlYkCQ9vFiy"
      },
      "source": [
        "!pip install -q streamlit"
      ],
      "execution_count": null,
      "outputs": []
    },
    {
      "cell_type": "code",
      "source": [
        "!pip -q install langchain openai"
      ],
      "metadata": {
        "id": "an2C3c_0Ooi9"
      },
      "execution_count": null,
      "outputs": []
    },
    {
      "cell_type": "markdown",
      "metadata": {
        "id": "waCfwniZOow8"
      },
      "source": [
        "## Create a streamlit app example\n"
      ]
    },
    {
      "cell_type": "code",
      "source": [
        "%%writefile app.py\n",
        "\n",
        "import streamlit as st\n",
        "from langchain import PromptTemplate\n",
        "from langchain.llms import OpenAI\n",
        "\n",
        "template = \"\"\"\n",
        "    Below is an email that may be poorly worded.\n",
        "    Your goal is to:\n",
        "    - Properly format the email\n",
        "    - Convert the input text to a specified tone\n",
        "    - Convert the input text to a specified dialect\n",
        "\n",
        "    Here are some examples different Tones:\n",
        "    - Formal: We went to Barcelona for the weekend. We have a lot of things to tell you.\n",
        "    - Informal: Went to Barcelona for the weekend. Lots to tell you.  \n",
        "\n",
        "    Here are some examples of words in different dialects:\n",
        "    - American: French Fries, cotton candy, apartment, garbage, cookie, green thumb, parking lot, pants, windshield\n",
        "    - British: chips, candyfloss, flag, rubbish, biscuit, green fingers, car park, trousers, windscreen\n",
        "\n",
        "    Example Sentences from each dialect:\n",
        "    - American: I headed straight for the produce section to grab some fresh vegetables, like bell peppers and zucchini. After that, I made my way to the meat department to pick up some chicken breasts.\n",
        "    - British: Well, I popped down to the local shop just the other day to pick up a few bits and bobs. As I was perusing the aisles, I noticed that they were fresh out of biscuits, which was a bit of a disappointment, as I do love a good cuppa with a biscuit or two.\n",
        "\n",
        "    Please start the email with a warm introduction. Add the introduction if you need to.\n",
        "    \n",
        "    Below is the email, tone, and dialect:\n",
        "    TONE: {tone}\n",
        "    DIALECT: {dialect}\n",
        "    EMAIL: {email}\n",
        "    \n",
        "    YOUR {dialect} RESPONSE:\n",
        "\"\"\"\n",
        "\n",
        "prompt = PromptTemplate(\n",
        "    input_variables=[\"tone\", \"dialect\", \"email\"],\n",
        "    template=template,\n",
        ")\n",
        "\n",
        "def load_LLM(openai_api_key):\n",
        "    \"\"\"Logic for loading the chain you want to use should go here.\"\"\"\n",
        "    # Make sure your openai_api_key is set as an environment variable\n",
        "    llm = OpenAI(temperature=.7, openai_api_key=openai_api_key)\n",
        "    return llm\n",
        "\n",
        "st.set_page_config(page_title=\"Globalize Email\", page_icon=\":robot:\")\n",
        "st.header(\"Globalize Text\")\n",
        "\n",
        "col1, col2 = st.columns(2)\n",
        "\n",
        "with col1:\n",
        "    st.markdown(\"Often professionals would like to improve their emails, but don't have the skills to do so. \\n\\n This tool \\\n",
        "                will help you improve your email skills by converting your emails into a more professional format. This tool \\\n",
        "                is powered by [LangChain](https://langchain.com/) and [OpenAI](https://openai.com) and made by \\\n",
        "                [@GregKamradt](https://twitter.com/GregKamradt). \\n\\n View Source Code on [Github](https://github.com/gkamradt/globalize-text-streamlit/blob/main/main.py)\")\n",
        "\n",
        "# with col2:\n",
        "    # st.image(image='/content/TweetScreenshot', width=500, caption='https://twitter.com/DannyRichman/status/1598254671591723008')\n",
        "\n",
        "st.markdown(\"## Enter Your Email To Convert\")\n",
        "\n",
        "def get_api_key():\n",
        "    input_text = st.text_input(label=\"OpenAI API Key \",  placeholder=\"Ex: sk-2twmA8tfCb8un4...\", key=\"openai_api_key_input\")\n",
        "    return input_text\n",
        "\n",
        "openai_api_key = get_api_key()\n",
        "\n",
        "col1, col2 = st.columns(2)\n",
        "with col1:\n",
        "    option_tone = st.selectbox(\n",
        "        'Which tone would you like your email to have?',\n",
        "        ('Formal', 'Informal'))\n",
        "    \n",
        "with col2:\n",
        "    option_dialect = st.selectbox(\n",
        "        'Which English Dialect would you like?',\n",
        "        ('American', 'British'))\n",
        "\n",
        "def get_text():\n",
        "    input_text = st.text_area(label=\"Email Input\", label_visibility='collapsed', placeholder=\"Your Email...\", key=\"email_input\")\n",
        "    return input_text\n",
        "\n",
        "email_input = get_text()\n",
        "\n",
        "if len(email_input.split(\" \")) > 700:\n",
        "    st.write(\"Please enter a shorter email. The maximum length is 700 words.\")\n",
        "    st.stop()\n",
        "\n",
        "def update_text_with_example():\n",
        "    print (\"in updated\")\n",
        "    st.session_state.email_input = \"Sally I am starts work at yours monday from dave\"\n",
        "\n",
        "st.button(\"*See An Example*\", type='secondary', help=\"Click to see an example of the email you will be converting.\", on_click=update_text_with_example)\n",
        "\n",
        "st.markdown(\"### Your Converted Email:\")\n",
        "\n",
        "if email_input:\n",
        "    if not openai_api_key:\n",
        "        st.warning('Please insert OpenAI API Key. Instructions [here](https://help.openai.com/en/articles/4936850-where-do-i-find-my-secret-api-key)', icon=\"⚠️\")\n",
        "        st.stop()\n",
        "\n",
        "    llm = load_LLM(openai_api_key=openai_api_key)\n",
        "\n",
        "    prompt_with_email = prompt.format(tone=option_tone, dialect=option_dialect, email=email_input)\n",
        "\n",
        "    formatted_email = llm(prompt_with_email)\n",
        "\n",
        "    st.write(formatted_email)"
      ],
      "metadata": {
        "id": "meJ36PefNftd",
        "outputId": "e5e3c8ff-813b-40b5-843f-691afb258a16",
        "colab": {
          "base_uri": "https://localhost:8080/"
        }
      },
      "execution_count": null,
      "outputs": [
        {
          "output_type": "stream",
          "name": "stdout",
          "text": [
            "Overwriting app.py\n",
            "Overwriting app.py\n"
          ]
        }
      ]
    },
    {
      "cell_type": "markdown",
      "metadata": {
        "id": "xZlEJkmSOoxC"
      },
      "source": [
        "# Run your sreamlit app on Colab\n",
        "## Install localtunnel"
      ]
    },
    {
      "cell_type": "code",
      "metadata": {
        "colab": {
          "base_uri": "https://localhost:8080/"
        },
        "outputId": "25ff387b-270a-4b0b-c623-3fa925646fa0",
        "id": "ZAyqQCQVOoxC"
      },
      "source": [
        "!npm install localtunnel"
      ],
      "execution_count": null,
      "outputs": [
        {
          "output_type": "stream",
          "name": "stdout",
          "text": [
            "\u001b[K\u001b[?25h\u001b[37;40mnpm\u001b[0m \u001b[0m\u001b[30;43mWARN\u001b[0m \u001b[0m\u001b[35msaveError\u001b[0m ENOENT: no such file or directory, open '/content/package.json'\n",
            "\u001b[0m\u001b[37;40mnpm\u001b[0m \u001b[0m\u001b[30;43mWARN\u001b[0m \u001b[0m\u001b[35menoent\u001b[0m ENOENT: no such file or directory, open '/content/package.json'\n",
            "\u001b[0m\u001b[37;40mnpm\u001b[0m \u001b[0m\u001b[30;43mWARN\u001b[0m\u001b[35m\u001b[0m content No description\n",
            "\u001b[0m\u001b[37;40mnpm\u001b[0m \u001b[0m\u001b[30;43mWARN\u001b[0m\u001b[35m\u001b[0m content No repository field.\n",
            "\u001b[0m\u001b[37;40mnpm\u001b[0m \u001b[0m\u001b[30;43mWARN\u001b[0m\u001b[35m\u001b[0m content No README data\n",
            "\u001b[0m\u001b[37;40mnpm\u001b[0m \u001b[0m\u001b[30;43mWARN\u001b[0m\u001b[35m\u001b[0m content No license field.\n",
            "\u001b[0m\n",
            "\u001b[K\u001b[?25h+ localtunnel@2.0.2\n",
            "updated 1 package and audited 36 packages in 0.601s\n",
            "\n",
            "3 packages are looking for funding\n",
            "  run `npm fund` for details\n",
            "\n",
            "found \u001b[92m0\u001b[0m vulnerabilities\n",
            "\n",
            "\u001b[K\u001b[?25h\u001b[37;40mnpm\u001b[0m \u001b[0m\u001b[30;43mWARN\u001b[0m \u001b[0m\u001b[35msaveError\u001b[0m ENOENT: no such file or directory, open '/content/package.json'\n",
            "\u001b[K\u001b[?25h\u001b[37;40mnpm\u001b[0m \u001b[0m\u001b[30;43mWARN\u001b[0m \u001b[0m\u001b[35menoent\u001b[0m ENOENT: no such file or directory, open '/content/package.json'\n",
            "\u001b[0m\u001b[37;40mnpm\u001b[0m \u001b[0m\u001b[30;43mWARN\u001b[0m\u001b[35m\u001b[0m content No description\n",
            "\u001b[0m\u001b[37;40mnpm\u001b[0m \u001b[0m\u001b[30;43mWARN\u001b[0m\u001b[35m\u001b[0m content No repository field.\n",
            "\u001b[0m\u001b[37;40mnpm\u001b[0m \u001b[0m\u001b[30;43mWARN\u001b[0m\u001b[35m\u001b[0m content No README data\n",
            "\u001b[0m\u001b[37;40mnpm\u001b[0m \u001b[0m\u001b[30;43mWARN\u001b[0m\u001b[35m\u001b[0m content No license field.\n",
            "\u001b[0m\n",
            "+ localtunnel@2.0.2\n",
            "updated 1 package and audited 36 packages in 0.911s\n",
            "\n",
            "3 packages are looking for funding\n",
            "  run `npm fund` for details\n",
            "\n",
            "found \u001b[92m0\u001b[0m vulnerabilities\n",
            "\n",
            "\u001b[K\u001b[?25h"
          ]
        }
      ]
    },
    {
      "cell_type": "markdown",
      "source": [
        "## Run streamlit in background"
      ],
      "metadata": {
        "id": "kccYE2lkN20y"
      }
    },
    {
      "cell_type": "code",
      "source": [
        "!streamlit run /content/app.py &>/content/logs.txt &"
      ],
      "metadata": {
        "id": "Zv912rRAN0fs"
      },
      "execution_count": null,
      "outputs": []
    },
    {
      "cell_type": "markdown",
      "source": [
        "## Expose the port 8501\n",
        "Then just click in the `url` showed.\n",
        "\n",
        "A `log.txt`file will be created."
      ],
      "metadata": {
        "id": "h_KW9juhOCuH"
      }
    },
    {
      "cell_type": "code",
      "source": [
        "!npx localtunnel --port 8501"
      ],
      "metadata": {
        "id": "XTGAizLhOIgC",
        "outputId": "de2011fe-7e7d-4ef8-d477-eab61429983e",
        "colab": {
          "base_uri": "https://localhost:8080/"
        }
      },
      "execution_count": null,
      "outputs": [
        {
          "output_type": "stream",
          "name": "stdout",
          "text": [
            "\u001b[K\u001b[?25hnpx: installed 22 in 3.659s\n",
            "your url is: https://slow-trees-sneeze-34-135-169-241.loca.lt\n"
          ]
        }
      ]
    }
  ]
}