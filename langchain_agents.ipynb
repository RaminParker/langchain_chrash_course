{
  "nbformat": 4,
  "nbformat_minor": 0,
  "metadata": {
    "colab": {
      "private_outputs": true,
      "provenance": [],
      "authorship_tag": "ABX9TyPqTL9A9E+ZSF+maxoHbGK1",
      "include_colab_link": true
    },
    "kernelspec": {
      "name": "python3",
      "display_name": "Python 3"
    },
    "language_info": {
      "name": "python"
    }
  },
  "cells": [
    {
      "cell_type": "markdown",
      "metadata": {
        "id": "view-in-github",
        "colab_type": "text"
      },
      "source": [
        "<a href=\"https://colab.research.google.com/github/RaminParker/langchain_chrash_course/blob/main/langchain_agents.ipynb\" target=\"_parent\"><img src=\"https://colab.research.google.com/assets/colab-badge.svg\" alt=\"Open In Colab\"/></a>"
      ]
    },
    {
      "cell_type": "markdown",
      "source": [
        "# LangChain Agents\n",
        "Agents können eigenständig entscheiden welche Tools (basierend auf der gegeben Tool-Auswahl) oder Chain genutzt werden soll.\n",
        "\n",
        "Credit goes to [Sam Witteveen](https://www.youtube.com/watch?v=ziu87EXZVUE) YouTube channel!"
      ],
      "metadata": {
        "id": "1Q9CJidwFbVK"
      }
    },
    {
      "cell_type": "code",
      "execution_count": null,
      "metadata": {
        "id": "l6emeiVSD5IA"
      },
      "outputs": [],
      "source": [
        "!pip -q install langchain huggingface_hub openai google-search-results tiktoken wikipedia"
      ]
    },
    {
      "cell_type": "code",
      "source": [
        "# Mount your Google Drive on your Google Colab runtime\n",
        "from google.colab import drive\n",
        "drive.mount('/content/drive/')\n",
        "\n",
        "path_to_key = \"/content/drive/MyDrive/Colab Notebooks/configs/serper/token.txt\" \n",
        "file1 = open(path_to_key, \"r\")\n",
        "token_serper = file1.read()  # 1000 queries for free and 100 per month https://serper.dev/ & https://serpapi.com/manage-api-key\n",
        "\n",
        "path_to_key = \"/content/drive/MyDrive/Colab Notebooks/configs/openai/token.txt\" \n",
        "file1 = open(path_to_key, \"r\")\n",
        "token_oai = file1.read()"
      ],
      "metadata": {
        "id": "6nE7WskJD_wT"
      },
      "execution_count": null,
      "outputs": []
    },
    {
      "cell_type": "code",
      "source": [
        "import os\n",
        "\n",
        "os.environ[\"OPENAI_API_KEY\"] = token_oai\n",
        "os.environ[\"SERPAPI_API_KEY\"] = token_serper  # search engine"
      ],
      "metadata": {
        "id": "1wVDUbvYEZvB"
      },
      "execution_count": null,
      "outputs": []
    },
    {
      "cell_type": "markdown",
      "source": [
        "Creating an Agent"
      ],
      "metadata": {
        "id": "lB86H7XnFmsk"
      }
    },
    {
      "cell_type": "code",
      "source": [
        "from langchain.agents import load_tools\n",
        "from langchain.agents import initialize_agent\n",
        "from langchain.llms import OpenAI"
      ],
      "metadata": {
        "id": "pZGZc_SkFnTM"
      },
      "execution_count": null,
      "outputs": []
    },
    {
      "cell_type": "code",
      "source": [
        "llm = OpenAI(temperature=0) # the higher the temperature the more creativity"
      ],
      "metadata": {
        "id": "pDflxxBoFp-T"
      },
      "execution_count": null,
      "outputs": []
    },
    {
      "cell_type": "markdown",
      "source": [
        "Loading Tools"
      ],
      "metadata": {
        "id": "l2pQ2eJvGVmN"
      }
    },
    {
      "cell_type": "code",
      "source": [
        "tools = load_tools([\"serpapi\", \"llm-math\"], llm=llm)"
      ],
      "metadata": {
        "id": "be-AHWR4GWCU"
      },
      "execution_count": null,
      "outputs": []
    },
    {
      "cell_type": "code",
      "source": [
        "# What is a tool like this\n",
        "print(tools[0].name, tools[0].description)\n",
        "print(tools[1].name, tools[1].description)"
      ],
      "metadata": {
        "id": "bKN3ieE4GZM0"
      },
      "execution_count": null,
      "outputs": []
    },
    {
      "cell_type": "code",
      "source": [
        "tools[1]"
      ],
      "metadata": {
        "id": "WceRXWL6H4Zu"
      },
      "execution_count": null,
      "outputs": []
    },
    {
      "cell_type": "markdown",
      "source": [
        "Initializing the Agent"
      ],
      "metadata": {
        "id": "TdOUURyAMprf"
      }
    },
    {
      "cell_type": "code",
      "source": [
        "agent = initialize_agent(tools, \n",
        "                         llm, \n",
        "                         agent=\"zero-shot-react-description\", \n",
        "                         verbose=True)"
      ],
      "metadata": {
        "id": "LDd4os3zMS2F"
      },
      "execution_count": null,
      "outputs": []
    },
    {
      "cell_type": "markdown",
      "source": [
        "Checkout the prompt. \n",
        "\n",
        "Der Agent kann ein Toll, aber muss kein Tool, verwenden. "
      ],
      "metadata": {
        "id": "YK7AREQXNPuc"
      }
    },
    {
      "cell_type": "code",
      "source": [
        "print(agent.agent.llm_chain.prompt.template)"
      ],
      "metadata": {
        "id": "J2CKZEB_M6zB"
      },
      "execution_count": null,
      "outputs": []
    },
    {
      "cell_type": "code",
      "source": [
        "## Standard LLM Query\n",
        "agent.run(\"Hi How are you today?\")"
      ],
      "metadata": {
        "id": "p_wUPABeM8Zh"
      },
      "execution_count": null,
      "outputs": []
    },
    {
      "cell_type": "code",
      "source": [
        "agent.run(\"Who is the United States President? What is his current age raised divided by 2?\")"
      ],
      "metadata": {
        "id": "K2eRuXj8SkrN"
      },
      "execution_count": null,
      "outputs": []
    },
    {
      "cell_type": "code",
      "source": [
        "agent.run(\"What is the average age in the United States? How much less is that then the age of the current US President?\")"
      ],
      "metadata": {
        "id": "IRtSEW5jTCQV"
      },
      "execution_count": null,
      "outputs": []
    },
    {
      "cell_type": "markdown",
      "source": [
        "# New Agent"
      ],
      "metadata": {
        "id": "sVHmCoYaZEel"
      }
    },
    {
      "cell_type": "code",
      "source": [
        "tools = load_tools([\"serpapi\", \"llm-math\",\"wikipedia\",\"terminal\"], llm=llm)"
      ],
      "metadata": {
        "id": "QN1Qs3fZYt3S"
      },
      "execution_count": null,
      "outputs": []
    },
    {
      "cell_type": "code",
      "source": [
        "agent = initialize_agent(tools, \n",
        "                         llm, \n",
        "                         agent=\"zero-shot-react-description\", \n",
        "                         verbose=True)"
      ],
      "metadata": {
        "id": "AWRo3k3-ZOI9"
      },
      "execution_count": null,
      "outputs": []
    },
    {
      "cell_type": "code",
      "source": [
        "print(agent.agent.llm_chain.prompt.template)"
      ],
      "metadata": {
        "id": "kPlCDu-sZPZO"
      },
      "execution_count": null,
      "outputs": []
    },
    {
      "cell_type": "code",
      "source": [
        "agent.run(\"Who is the head of DeepMind\")\n"
      ],
      "metadata": {
        "id": "W6GPEeVhZRjd"
      },
      "execution_count": null,
      "outputs": []
    },
    {
      "cell_type": "code",
      "source": [
        "agent.run(\"What is DeepMind\")"
      ],
      "metadata": {
        "id": "NF2At2QAZqSP"
      },
      "execution_count": null,
      "outputs": []
    },
    {
      "cell_type": "code",
      "source": [
        "agent.run(\"If I square the number for the street address of DeepMind what answer do I get?\")"
      ],
      "metadata": {
        "id": "SAJFtbGBZ0_Y"
      },
      "execution_count": null,
      "outputs": []
    },
    {
      "cell_type": "code",
      "source": [
        "agent.run(\"What files are in my current directory?\")"
      ],
      "metadata": {
        "id": "IKPBHQ-AZ2jh"
      },
      "execution_count": null,
      "outputs": []
    },
    {
      "cell_type": "code",
      "source": [
        "agent.run(\"Does my current directory have a file about California?\")"
      ],
      "metadata": {
        "id": "qDu4LKdFZ4k4"
      },
      "execution_count": null,
      "outputs": []
    },
    {
      "cell_type": "code",
      "source": [],
      "metadata": {
        "id": "yfv17W7Ukdjj"
      },
      "execution_count": null,
      "outputs": []
    }
  ]
}